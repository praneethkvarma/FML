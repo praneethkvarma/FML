{
  "nbformat": 4,
  "nbformat_minor": 0,
  "metadata": {
    "colab": {
      "provenance": [],
      "authorship_tag": "ABX9TyP68sQu6R8HRRyFIUNgum+o",
      "include_colab_link": true
    },
    "kernelspec": {
      "name": "python3",
      "display_name": "Python 3"
    },
    "language_info": {
      "name": "python"
    }
  },
  "cells": [
    {
      "cell_type": "markdown",
      "metadata": {
        "id": "view-in-github",
        "colab_type": "text"
      },
      "source": [
        "<a href=\"https://colab.research.google.com/github/praneethkvarma/FML/blob/main/stemmization.ipynb\" target=\"_parent\"><img src=\"https://colab.research.google.com/assets/colab-badge.svg\" alt=\"Open In Colab\"/></a>"
      ]
    },
    {
      "cell_type": "code",
      "execution_count": 5,
      "metadata": {
        "colab": {
          "base_uri": "https://localhost:8080/"
        },
        "id": "wPmOYQ3eYXu7",
        "outputId": "7d4a6657-4c5e-49ad-febd-cd8ce9a35584"
      },
      "outputs": [
        {
          "output_type": "stream",
          "name": "stdout",
          "text": [
            "['He', 'was', 'running', 'and', 'eating', 'at', 'same', 'time', '.', 'He', 'has', 'bad', 'habit', 'of', 'swimming', 'after', 'playing', 'long', 'hours', 'in', 'the', 'Sun', '.']\n",
            "he wa run and eat at same time . he ha bad habit of swim after play long hour in the sun . \n"
          ]
        },
        {
          "output_type": "stream",
          "name": "stderr",
          "text": [
            "[nltk_data] Downloading package punkt to /root/nltk_data...\n",
            "[nltk_data]   Package punkt is already up-to-date!\n"
          ]
        }
      ],
      "source": [
        "from nltk.stem import PorterStemmer\n",
        "import nltk\n",
        "nltk.download('punkt')\n",
        "from nltk.tokenize import word_tokenize,sent_tokenize\n",
        "porter=PorterStemmer()\n",
        "sentence=\"He was running and eating at same time. He has bad habit of swimming after playing long hours in the Sun.\"\n",
        "def sentencestem(sentence):\n",
        "  word_tokens=word_tokenize(sentence)\n",
        "  print(word_tokens)\n",
        "  a=[]\n",
        "  for i in word_tokens:\n",
        "    a.append(porter.stem(i))\n",
        "    a.append(\" \")\n",
        "  return \"\".join(a)\n",
        "\n",
        "res=sentencestem(sentence)\n",
        "print(res)"
      ]
    }
  ]
}