{
  "nbformat": 4,
  "nbformat_minor": 0,
  "metadata": {
    "colab": {
      "provenance": [],
      "authorship_tag": "ABX9TyPHUGvbz33rf12pemIgdLvF",
      "include_colab_link": true
    },
    "kernelspec": {
      "name": "python3",
      "display_name": "Python 3"
    },
    "language_info": {
      "name": "python"
    }
  },
  "cells": [
    {
      "cell_type": "markdown",
      "metadata": {
        "id": "view-in-github",
        "colab_type": "text"
      },
      "source": [
        "<a href=\"https://colab.research.google.com/github/praneethkvarma/FML/blob/main/text_Tokenize_using_3_methods.ipynb\" target=\"_parent\"><img src=\"https://colab.research.google.com/assets/colab-badge.svg\" alt=\"Open In Colab\"/></a>"
      ]
    },
    {
      "cell_type": "code",
      "execution_count": 1,
      "metadata": {
        "colab": {
          "base_uri": "https://localhost:8080/"
        },
        "id": "WMkpnSEoTCOt",
        "outputId": "d4a567df-b281-4582-ea39-f177413b11a1"
      },
      "outputs": [
        {
          "output_type": "stream",
          "name": "stdout",
          "text": [
            "['Once', 'there', 'lived', 'a', 'greedy', 'man', 'in', 'a', 'small', 'town.', 'He', 'was', 'very', 'rich,', 'and', 'he', 'loved', 'gold', 'a', 'nd', 'all', 'things', 'fancy.', 'But', 'he', 'loved', 'his', 'daughter', 'more', 'than', 'anything.', 'One', 'day,', 'he', 'chanced', 'upo', 'n', 'a', 'fairy.', 'The', 'fairy’s', 'hair', 'was', 'caught', 'in', 'a', 'few', 'tree', 'branches.', 'He', 'helped', 'her', 'out,', 'but', 'as', 'his', 'gre', 'ediness', 'took', 'over,', 'he', 'realised', 'that', 'he', 'had', 'an', 'opportunity', 'to', 'become', 'richer', 'by', 'asking', 'for', 'a', 'w', 'ish', 'in', 'return', '(by', 'helping', 'her', 'out).', 'The', 'fairy', 'granted', 'him', 'a', 'wish.', 'He', 'said,', '“All', 'that', 'I', 'touch', 'sho', 'uld', 'turn', 'to', 'gold.”', 'And', 'his', 'wish', 'was', 'granted', 'by', 'the', 'grateful', 'fairy.']\n",
            "108\n"
          ]
        }
      ],
      "source": [
        "text = '''Once there lived a greedy man in a small town. He was very rich, and he loved gold a\n",
        "nd all things fancy. But he loved his daughter more than anything. One day, he chanced upo\n",
        "n a fairy. The fairy’s hair was caught in a few tree branches. He helped her out, but as his gre\n",
        "ediness took over, he realised that he had an opportunity to become richer by asking for a w\n",
        "ish in return (by helping her out). The fairy granted him a wish. He said, “All that I touch sho\n",
        "uld turn to gold.” And his wish was granted by the grateful fairy.'''\n",
        "tokens=text.split()\n",
        "print(tokens)\n",
        "print(len(tokens))"
      ]
    },
    {
      "cell_type": "code",
      "source": [
        "text = '''Once there lived a greedy man in a small town. He was very rich, and he loved gold a\n",
        "nd all things fancy. But he loved his daughter more than anything. One day, he chanced upo\n",
        "n a fairy. The fairy’s hair was caught in a few tree branches. He helped her out, but as his gre\n",
        "ediness took over, he realised that he had an opportunity to become richer by asking for a w\n",
        "ish in return (by helping her out). The fairy granted him a wish. He said, “All that I touch sho\n",
        "uld turn to gold.” And his wish was granted by the grateful fairy.'''\n",
        "tokens=text.split()\n",
        "print(tokens)\n",
        "print(len(tokens))"
      ],
      "metadata": {
        "colab": {
          "base_uri": "https://localhost:8080/"
        },
        "id": "b2x3wkmPUgm4",
        "outputId": "62a6cef2-c4fa-435d-bea1-6dd01ba16fa2"
      },
      "execution_count": 2,
      "outputs": [
        {
          "output_type": "stream",
          "name": "stdout",
          "text": [
            "['Once there lived a greedy man in a small town', ' He was very rich, and he loved gold a\\nnd all things fancy', ' But he loved his daughter more than anything', ' One day, he chanced upo\\nn a fairy', ' The fairy’s hair was caught in a few tree branches', ' He helped her out, but as his gre\\nediness took over, he realised that he had an opportunity to become richer by asking for a w\\nish in return (by helping her out)', ' The fairy granted him a wish', ' He said, “All that I touch sho\\nuld turn to gold', '” And his wish was granted by the grateful fairy', '']\n",
            "10\n"
          ]
        }
      ]
    },
    {
      "cell_type": "code",
      "source": [
        "import nltk\n",
        "nltk.download('punkt')\n",
        "from nltk.tokenize import word_tokenize\n",
        "text = '''Once there lived a greedy man in a small town. He was very rich, and he loved gold a\n",
        "nd all things fancy. But he loved his daughter more than anything. One day, he chanced upo\n",
        "n a fairy. The fairy’s hair was caught in a few tree branches. He helped her out, but as his gre\n",
        "ediness took over, he realised that he had an opportunity to become richer by asking for a w\n",
        "ish in return (by helping her out). The fairy granted him a wish. He said, “All that I touch sho\n",
        "uld turn to gold.” And his wish was granted by the grateful fairy.'''\n",
        "word_tokens=word_tokenize(text)\n",
        "print(word_tokens)"
      ],
      "metadata": {
        "colab": {
          "base_uri": "https://localhost:8080/"
        },
        "id": "bReLdRUsUuUF",
        "outputId": "2c458be7-1eda-43c5-bcdf-db54d8b1bfc4"
      },
      "execution_count": 4,
      "outputs": [
        {
          "output_type": "stream",
          "name": "stderr",
          "text": [
            "[nltk_data] Downloading package punkt to /root/nltk_data...\n",
            "[nltk_data]   Unzipping tokenizers/punkt.zip.\n"
          ]
        },
        {
          "output_type": "stream",
          "name": "stdout",
          "text": [
            "['Once', 'there', 'lived', 'a', 'greedy', 'man', 'in', 'a', 'small', 'town', '.', 'He', 'was', 'very', 'rich', ',', 'and', 'he', 'loved', 'gold', 'a', 'nd', 'all', 'things', 'fancy', '.', 'But', 'he', 'loved', 'his', 'daughter', 'more', 'than', 'anything', '.', 'One', 'day', ',', 'he', 'chanced', 'upo', 'n', 'a', 'fairy', '.', 'The', 'fairy', '’', 's', 'hair', 'was', 'caught', 'in', 'a', 'few', 'tree', 'branches', '.', 'He', 'helped', 'her', 'out', ',', 'but', 'as', 'his', 'gre', 'ediness', 'took', 'over', ',', 'he', 'realised', 'that', 'he', 'had', 'an', 'opportunity', 'to', 'become', 'richer', 'by', 'asking', 'for', 'a', 'w', 'ish', 'in', 'return', '(', 'by', 'helping', 'her', 'out', ')', '.', 'The', 'fairy', 'granted', 'him', 'a', 'wish', '.', 'He', 'said', ',', '“', 'All', 'that', 'I', 'touch', 'sho', 'uld', 'turn', 'to', 'gold.', '”', 'And', 'his', 'wish', 'was', 'granted', 'by', 'the', 'grateful', 'fairy', '.']\n"
          ]
        }
      ]
    },
    {
      "cell_type": "code",
      "source": [
        "import nltk\n",
        "nltk.download('punkt')\n",
        "nltk.download('stopwords')\n",
        "from nltk.tokenize import sent_tokenize\n",
        "tokens=sent_tokenize(text)\n",
        "print(tokens)\n",
        "print(len(tokens))"
      ],
      "metadata": {
        "colab": {
          "base_uri": "https://localhost:8080/"
        },
        "id": "M0dw4HBuVMwJ",
        "outputId": "25822a2e-33a5-4b3b-c184-18e4630d2dac"
      },
      "execution_count": 6,
      "outputs": [
        {
          "output_type": "stream",
          "name": "stdout",
          "text": [
            "['Once there lived a greedy man in a small town.', 'He was very rich, and he loved gold a\\nnd all things fancy.', 'But he loved his daughter more than anything.', 'One day, he chanced upo\\nn a fairy.', 'The fairy’s hair was caught in a few tree branches.', 'He helped her out, but as his gre\\nediness took over, he realised that he had an opportunity to become richer by asking for a w\\nish in return (by helping her out).', 'The fairy granted him a wish.', 'He said, “All that I touch sho\\nuld turn to gold.” And his wish was granted by the grateful fairy.']\n",
            "8\n"
          ]
        },
        {
          "output_type": "stream",
          "name": "stderr",
          "text": [
            "[nltk_data] Downloading package punkt to /root/nltk_data...\n",
            "[nltk_data]   Package punkt is already up-to-date!\n",
            "[nltk_data] Downloading package stopwords to /root/nltk_data...\n",
            "[nltk_data]   Package stopwords is already up-to-date!\n"
          ]
        }
      ]
    },
    {
      "cell_type": "code",
      "source": [
        "import re\n",
        "tokens=re.findall(\"[\\w']+\",text)\n",
        "print(tokens)\n",
        "print(len(tokens))"
      ],
      "metadata": {
        "colab": {
          "base_uri": "https://localhost:8080/"
        },
        "id": "Vxzw-K1_Vf-k",
        "outputId": "3ffffd02-d210-4c54-9367-57fa69137b9b"
      },
      "execution_count": 7,
      "outputs": [
        {
          "output_type": "stream",
          "name": "stdout",
          "text": [
            "['Once', 'there', 'lived', 'a', 'greedy', 'man', 'in', 'a', 'small', 'town', 'He', 'was', 'very', 'rich', 'and', 'he', 'loved', 'gold', 'a', 'nd', 'all', 'things', 'fancy', 'But', 'he', 'loved', 'his', 'daughter', 'more', 'than', 'anything', 'One', 'day', 'he', 'chanced', 'upo', 'n', 'a', 'fairy', 'The', 'fairy', 's', 'hair', 'was', 'caught', 'in', 'a', 'few', 'tree', 'branches', 'He', 'helped', 'her', 'out', 'but', 'as', 'his', 'gre', 'ediness', 'took', 'over', 'he', 'realised', 'that', 'he', 'had', 'an', 'opportunity', 'to', 'become', 'richer', 'by', 'asking', 'for', 'a', 'w', 'ish', 'in', 'return', 'by', 'helping', 'her', 'out', 'The', 'fairy', 'granted', 'him', 'a', 'wish', 'He', 'said', 'All', 'that', 'I', 'touch', 'sho', 'uld', 'turn', 'to', 'gold', 'And', 'his', 'wish', 'was', 'granted', 'by', 'the', 'grateful', 'fairy']\n",
            "109\n"
          ]
        }
      ]
    },
    {
      "cell_type": "code",
      "source": [
        "import re\n",
        "tokens=re.compile(\"[.?!]\").split(text)\n",
        "print(tokens)"
      ],
      "metadata": {
        "colab": {
          "base_uri": "https://localhost:8080/"
        },
        "id": "wxqnNd1aVtiA",
        "outputId": "aa5b7c7a-155e-44d6-fdc9-a42e3fd61b0c"
      },
      "execution_count": 9,
      "outputs": [
        {
          "output_type": "stream",
          "name": "stdout",
          "text": [
            "['Once there lived a greedy man in a small town', ' He was very rich, and he loved gold a\\nnd all things fancy', ' But he loved his daughter more than anything', ' One day, he chanced upo\\nn a fairy', ' The fairy’s hair was caught in a few tree branches', ' He helped her out, but as his gre\\nediness took over, he realised that he had an opportunity to become richer by asking for a w\\nish in return (by helping her out)', ' The fairy granted him a wish', ' He said, “All that I touch sho\\nuld turn to gold', '” And his wish was granted by the grateful fairy', '']\n"
          ]
        }
      ]
    }
  ]
}