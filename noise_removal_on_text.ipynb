{
  "nbformat": 4,
  "nbformat_minor": 0,
  "metadata": {
    "colab": {
      "provenance": [],
      "authorship_tag": "ABX9TyOtkxiHvA20XbkZw0sjMAg/",
      "include_colab_link": true
    },
    "kernelspec": {
      "name": "python3",
      "display_name": "Python 3"
    },
    "language_info": {
      "name": "python"
    }
  },
  "cells": [
    {
      "cell_type": "markdown",
      "metadata": {
        "id": "view-in-github",
        "colab_type": "text"
      },
      "source": [
        "<a href=\"https://colab.research.google.com/github/praneethkvarma/FML/blob/main/noise_removal_on_text.ipynb\" target=\"_parent\"><img src=\"https://colab.research.google.com/assets/colab-badge.svg\" alt=\"Open In Colab\"/></a>"
      ]
    },
    {
      "cell_type": "code",
      "execution_count": 1,
      "metadata": {
        "id": "kva-y4PwGm0O"
      },
      "outputs": [],
      "source": [
        "import nltk\n",
        "from nltk.corpus import stopwords\n",
        "from nltk.tokenize import word_tokenize\n",
        "import string\n"
      ]
    },
    {
      "cell_type": "code",
      "source": [
        "import nltk\n",
        "nltk.download('stopwords')\n",
        "nltk.download('punkt')\n",
        "import string\n",
        "from nltk.tokenize import word_tokenize\n",
        "def remove_punctuations(sentence):\n",
        "  for i in sentence:\n",
        "    if i in string.punctuation:\n",
        "      sentence=sentence.replace(i,\"\")\n",
        "  return sentence\n",
        "def remove_stopwords(sentence):\n",
        "  stop_words=set(stopwords.words('english'))\n",
        "  words=word_tokenize(sentence)\n",
        "  for i in words:\n",
        "    if i in stop_words:\n",
        "      sentence=sentence.replace(i,\"\")\n",
        "  return sentence\n",
        "example=\"hi.. this is a coding champ..;'\"\n",
        "print(f'sentence  : {example}')\n",
        "example=remove_punctuations(example)\n",
        "print(f'remove_punkt  : {example}')\n",
        "print(f'remove stopwords  : {remove_stopwords(example)}')"
      ],
      "metadata": {
        "colab": {
          "base_uri": "https://localhost:8080/"
        },
        "id": "-uECcMDIG8Qa",
        "outputId": "31ec2e36-286e-42cb-d8ee-db0c9cd17093"
      },
      "execution_count": 12,
      "outputs": [
        {
          "output_type": "stream",
          "name": "stdout",
          "text": [
            "sentence  : hi.. this is a coding champ..;'\n",
            "remove_punkt  : hi this is a coding champ\n",
            "remove stopwords  : hi    coding chmp\n"
          ]
        },
        {
          "output_type": "stream",
          "name": "stderr",
          "text": [
            "[nltk_data] Downloading package stopwords to /root/nltk_data...\n",
            "[nltk_data]   Package stopwords is already up-to-date!\n",
            "[nltk_data] Downloading package punkt to /root/nltk_data...\n",
            "[nltk_data]   Package punkt is already up-to-date!\n"
          ]
        }
      ]
    }
  ]
}